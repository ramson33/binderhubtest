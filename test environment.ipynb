{
 "cells": [
  {
   "cell_type": "code",
   "execution_count": 2,
   "id": "82b46cdc-9099-48f6-8726-d55a243182d4",
   "metadata": {},
   "outputs": [
    {
     "name": "stdout",
     "output_type": "stream",
     "text": [
      "Collecting pandas\n",
      "  Downloading pandas-1.5.3-cp310-cp310-manylinux_2_17_x86_64.manylinux2014_x86_64.whl (12.1 MB)\n",
      "\u001b[2K     \u001b[90m━━━━━━━━━━━━━━━━━━━━━━━━━━━━━━━━━━━━━━━━\u001b[0m \u001b[32m12.1/12.1 MB\u001b[0m \u001b[31m93.3 MB/s\u001b[0m eta \u001b[36m0:00:00\u001b[0m00:01\u001b[0m00:01\u001b[0m\n",
      "\u001b[?25hRequirement already satisfied: pytz>=2020.1 in /opt/conda/lib/python3.10/site-packages (from pandas) (2022.6)\n",
      "Requirement already satisfied: python-dateutil>=2.8.1 in /opt/conda/lib/python3.10/site-packages (from pandas) (2.8.2)\n",
      "Collecting numpy>=1.21.0\n",
      "  Downloading numpy-1.24.2-cp310-cp310-manylinux_2_17_x86_64.manylinux2014_x86_64.whl (17.3 MB)\n",
      "\u001b[2K     \u001b[90m━━━━━━━━━━━━━━━━━━━━━━━━━━━━━━━━━━━━━━━━\u001b[0m \u001b[32m17.3/17.3 MB\u001b[0m \u001b[31m41.9 MB/s\u001b[0m eta \u001b[36m0:00:00\u001b[0m00:01\u001b[0m00:01\u001b[0m\n",
      "\u001b[?25hRequirement already satisfied: six>=1.5 in /opt/conda/lib/python3.10/site-packages (from python-dateutil>=2.8.1->pandas) (1.16.0)\n",
      "Installing collected packages: numpy, pandas\n",
      "Successfully installed numpy-1.24.2 pandas-1.5.3\n"
     ]
    }
   ],
   "source": [
    "!pip install pandas\n"
   ]
  },
  {
   "cell_type": "code",
   "execution_count": 4,
   "id": "a024b639-3c25-4a34-b77b-8e282f15a4f6",
   "metadata": {},
   "outputs": [
    {
     "name": "stdout",
     "output_type": "stream",
     "text": [
      "Name: pandas\n",
      "Version: 1.5.3\n",
      "Summary: Powerful data structures for data analysis, time series, and statistics\n",
      "Home-page: https://pandas.pydata.org\n",
      "Author: The Pandas Development Team\n",
      "Author-email: pandas-dev@python.org\n",
      "License: BSD-3-Clause\n",
      "Location: /home/jovyan/.local/lib/python3.10/site-packages\n",
      "Requires: numpy, python-dateutil, pytz\n",
      "Required-by: \n",
      "Note: you may need to restart the kernel to use updated packages.\n"
     ]
    }
   ],
   "source": [
    "pip show pandas\n"
   ]
  },
  {
   "cell_type": "code",
   "execution_count": 15,
   "id": "dfd0ac35-47af-46ba-9e2c-7af8d057d4a9",
   "metadata": {},
   "outputs": [],
   "source": [
    "import pandas as pd"
   ]
  },
  {
   "cell_type": "code",
   "execution_count": 16,
   "id": "58e22f6a-ad13-4ab0-a198-6cfdf28fb685",
   "metadata": {},
   "outputs": [
    {
     "name": "stdout",
     "output_type": "stream",
     "text": [
      "          RprtDt StateCd    NDISDsbltyGrpNm  \\\n",
      "0      31DEC2022     ACT                ABI   \n",
      "1      31DEC2022     ACT                ABI   \n",
      "2      31DEC2022     ACT             Autism   \n",
      "3      31DEC2022     ACT             Autism   \n",
      "4      31DEC2022     ACT             Autism   \n",
      "...          ...     ...                ...   \n",
      "10970  30SEP2021      WA             Stroke   \n",
      "10971  30SEP2021      WA  Visual Impairment   \n",
      "10972  30SEP2021      WA  Visual Impairment   \n",
      "10973  30SEP2021      WA  Visual Impairment   \n",
      "10974  30SEP2021      WA  Visual Impairment   \n",
      "\n",
      "                                             ICDDsbltyNm Primary Reported  \n",
      "0                           G93.1 - Hypoxic brain injury     <11      <11  \n",
      "1      T90 - Traumatic brain injury [also called head...     223      258  \n",
      "2                                F84.0 - Autism disorder    3279     3458  \n",
      "3                                  F84.2 - Rett syndrome     <11      <11  \n",
      "4                              F84.5 - Asperger syndrome     101      118  \n",
      "...                                                  ...     ...      ...  \n",
      "10970                                       I69 - Stroke     563      711  \n",
      "10971                                   E70.3 - Albinism     <11      <11  \n",
      "10972                      F72.9 - Myopathy (variations)     <11      <11  \n",
      "10973      H54 - Visual impairment (including blindness)     716     1571  \n",
      "10974                   Q15.9 - Congenital eye condition      11       21  \n",
      "\n",
      "[10975 rows x 6 columns]\n"
     ]
    }
   ],
   "source": [
    "file = \"ndis_diagnosis.csv\"\n",
    "\n",
    "df = pd.read_csv(file)\n",
    "print(df)"
   ]
  },
  {
   "cell_type": "code",
   "execution_count": 17,
   "id": "e8c886fa-83ec-49bc-a8c0-27117e81ba6e",
   "metadata": {},
   "outputs": [
    {
     "name": "stdout",
     "output_type": "stream",
     "text": [
      "Shape: (10975, 6)\n"
     ]
    }
   ],
   "source": [
    "print(\"Shape:\", df.shape)"
   ]
  },
  {
   "cell_type": "code",
   "execution_count": 18,
   "id": "20c5d5c5-2d4a-43b6-8817-43f29cc90f47",
   "metadata": {},
   "outputs": [
    {
     "name": "stdout",
     "output_type": "stream",
     "text": [
      "      RprtDt StateCd NDISDsbltyGrpNm  \\\n",
      "0  31DEC2022     ACT             ABI   \n",
      "1  31DEC2022     ACT             ABI   \n",
      "2  31DEC2022     ACT          Autism   \n",
      "3  31DEC2022     ACT          Autism   \n",
      "4  31DEC2022     ACT          Autism   \n",
      "\n",
      "                                         ICDDsbltyNm Primary Reported  \n",
      "0                       G93.1 - Hypoxic brain injury     <11      <11  \n",
      "1  T90 - Traumatic brain injury [also called head...     223      258  \n",
      "2                            F84.0 - Autism disorder    3279     3458  \n",
      "3                              F84.2 - Rett syndrome     <11      <11  \n",
      "4                          F84.5 - Asperger syndrome     101      118  \n"
     ]
    }
   ],
   "source": [
    "print(df.head(5))"
   ]
  },
  {
   "cell_type": "code",
   "execution_count": 19,
   "id": "3978db00-1650-4d92-b071-394949a41483",
   "metadata": {},
   "outputs": [
    {
     "name": "stdout",
     "output_type": "stream",
     "text": [
      "      RprtDt StateCd NDISDsbltyGrpNm  \\\n",
      "0  31DEC2022     ACT             ABI   \n",
      "1  31DEC2022     ACT             ABI   \n",
      "2  31DEC2022     ACT          Autism   \n",
      "3  31DEC2022     ACT          Autism   \n",
      "4  31DEC2022     ACT          Autism   \n",
      "\n",
      "                                         ICDDsbltyNm Primary Reported  \n",
      "0                       G93.1 - Hypoxic brain injury     <11      <11  \n",
      "1  T90 - Traumatic brain injury [also called head...     223      258  \n",
      "2                            F84.0 - Autism disorder    3279     3458  \n",
      "3                              F84.2 - Rett syndrome     <11      <11  \n",
      "4                          F84.5 - Asperger syndrome     101      118  \n"
     ]
    }
   ],
   "source": [
    "print(df.head(5))"
   ]
  },
  {
   "cell_type": "code",
   "execution_count": 20,
   "id": "c41b3fa5-c720-4f90-a54f-a8626b1af512",
   "metadata": {},
   "outputs": [
    {
     "data": {
      "text/plain": [
       "RprtDt             object\n",
       "StateCd            object\n",
       "NDISDsbltyGrpNm    object\n",
       "ICDDsbltyNm        object\n",
       "Primary            object\n",
       "Reported           object\n",
       "dtype: object"
      ]
     },
     "execution_count": 20,
     "metadata": {},
     "output_type": "execute_result"
    }
   ],
   "source": [
    "df.dtypes"
   ]
  },
  {
   "cell_type": "code",
   "execution_count": 21,
   "id": "c9033b0d-153a-43b0-bf5c-4cda84e1214c",
   "metadata": {},
   "outputs": [
    {
     "data": {
      "text/plain": [
       "12"
      ]
     },
     "execution_count": 21,
     "metadata": {},
     "output_type": "execute_result"
    }
   ],
   "source": [
    "df[\"StateCd\"].nunique()"
   ]
  },
  {
   "cell_type": "code",
   "execution_count": 22,
   "id": "0d162d73-2e82-48e6-883a-3c038575c1bd",
   "metadata": {},
   "outputs": [
    {
     "data": {
      "text/plain": [
       "18"
      ]
     },
     "execution_count": 22,
     "metadata": {},
     "output_type": "execute_result"
    }
   ],
   "source": [
    "df[\"NDISDsbltyGrpNm\"].nunique()"
   ]
  },
  {
   "cell_type": "code",
   "execution_count": 23,
   "id": "e91116d8-6d9a-4fe3-803f-9b4fb5baa092",
   "metadata": {},
   "outputs": [],
   "source": [
    "df_new = df.sample(10)\n",
    "\n",
    "df_new.to_csv(\"sample_disability.csv\")"
   ]
  },
  {
   "cell_type": "code",
   "execution_count": 24,
   "id": "8a94515d-11df-48be-ba09-28af9ae5a81d",
   "metadata": {},
   "outputs": [
    {
     "name": "stdout",
     "output_type": "stream",
     "text": [
      "Counter({'b': 3, 'a': 2, 'c': 1})\n"
     ]
    }
   ],
   "source": [
    "import collections\n",
    "print(collections.Counter(['a','b','c','a','b','b']))"
   ]
  },
  {
   "cell_type": "code",
   "execution_count": 25,
   "id": "e84702fc-0894-4fd7-8a6c-f7a9865a631a",
   "metadata": {},
   "outputs": [
    {
     "name": "stdout",
     "output_type": "stream",
     "text": [
      "[('Other', 3393), ('Intellectual Disability', 1919), ('Psychosocial disability', 1215), ('Other Neurological', 966), (nan, 918), ('Other Physical', 385), ('Visual Impairment', 345), ('Spinal Cord Injury', 305), ('Autism', 298), ('ABI', 253), ('Hearing Impairment', 191), ('Other Sensory/Speech', 109), ('Developmental delay', 108), ('Global developmental delay', 105), ('Stroke', 104), ('Down Syndrome', 103), ('Cerebral Palsy', 96), ('Multiple Sclerosis', 95), ('Missing', 67)]\n"
     ]
    }
   ],
   "source": [
    "print(collections.Counter(df['NDISDsbltyGrpNm']).most_common(100))"
   ]
  },
  {
   "cell_type": "code",
   "execution_count": null,
   "id": "ab02fba0-95e9-41ef-b1c2-4c9d4aff9669",
   "metadata": {},
   "outputs": [],
   "source": []
  }
 ],
 "metadata": {
  "kernelspec": {
   "display_name": "Python 3 (ipykernel)",
   "language": "python",
   "name": "python3"
  },
  "language_info": {
   "codemirror_mode": {
    "name": "ipython",
    "version": 3
   },
   "file_extension": ".py",
   "mimetype": "text/x-python",
   "name": "python",
   "nbconvert_exporter": "python",
   "pygments_lexer": "ipython3",
   "version": "3.10.6"
  }
 },
 "nbformat": 4,
 "nbformat_minor": 5
}
